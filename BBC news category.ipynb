{
 "cells": [
  {
   "cell_type": "code",
   "execution_count": 9,
   "id": "7d8c111f-a00d-4599-b1a9-cf5bf334eba9",
   "metadata": {},
   "outputs": [],
   "source": [
    "import csv\n",
    "from nltk.corpus import stopwords\n",
    "from tensorflow.keras.preprocessing.text import Tokenizer\n",
    "from tensorflow.keras.preprocessing.sequence import pad_sequences"
   ]
  },
  {
   "cell_type": "code",
   "execution_count": 8,
   "id": "b233b16b-8b7a-4f57-8752-fd55cc4bb86b",
   "metadata": {},
   "outputs": [
    {
     "name": "stdout",
     "output_type": "stream",
     "text": [
      "ArticleId,Text,Category\n",
      "\n",
      "1833,worldcom ex-boss launches defence lawyers defending former worldcom chief bernie ebbers against a battery of fraud charges have called a company whistleblower as their first witness.  cynthia cooper  worldcom s ex-head of internal accounting  alerted directors to irregular accounting practices at the us telecoms giant in 2002. her warnings led to the collapse of the firm following the discovery of an $11bn (Â£5.7bn) accounting fraud. mr ebbers has pleaded not guilty to charges of fraud and conspiracy.  prosecution lawyers have argued that mr ebbers orchestrated a series of accounting tricks at worldcom  ordering employees to hide expenses and inflate revenues to meet wall street earnings estimates. but ms cooper  who now runs her own consulting business  told a jury in new york on wednesday that external auditors arthur andersen had approved worldcom s accounting in early 2001 and 2002. she said andersen had given a  green light  to the procedures and practices used by worldcom. mr ebber s lawyers have said he was unaware of the fraud  arguing that auditors did not alert him to any problems.  ms cooper also said that during shareholder meetings mr ebbers often passed over technical questions to the company s finance chief  giving only  brief  answers himself. the prosecution s star witness  former worldcom financial chief scott sullivan  has said that mr ebbers ordered accounting adjustments at the firm  telling him to  hit our books . however  ms cooper said mr sullivan had not mentioned  anything uncomfortable  about worldcom s accounting during a 2001 audit committee meeting. mr ebbers could face a jail sentence of 85 years if convicted of all the charges he is facing. worldcom emerged from bankruptcy protection in 2004  and is now known as mci. last week  mci agreed to a buyout by verizon communications in a deal valued at $6.75bn.,business\n",
      "\n"
     ]
    }
   ],
   "source": [
    "with open ('./BBC News Train.csv') as c:\n",
    "    print(c.readline())\n",
    "    print(c.readline())"
   ]
  },
  {
   "cell_type": "code",
   "execution_count": 12,
   "id": "2604a8da-9b4b-41e9-9bad-f260ab964d9d",
   "metadata": {},
   "outputs": [],
   "source": [
    "def rsw(s):\n",
    "    sw=stopwords.words('english')\n",
    "    s=s.lower()\n",
    "    s=s.split()\n",
    "    s=[w for w in s if w not in sw]\n",
    "    s=' '.join(str(e) for e in s)\n",
    "    return s"
   ]
  },
  {
   "cell_type": "code",
   "execution_count": 13,
   "id": "336fc083-588b-4ace-92de-c62567973090",
   "metadata": {},
   "outputs": [
    {
     "data": {
      "text/plain": [
       "'machine learning engineer google'"
      ]
     },
     "execution_count": 13,
     "metadata": {},
     "output_type": "execute_result"
    }
   ],
   "source": [
    "rsw('I will be a Machine Learning Engineer at Google')"
   ]
  },
  {
   "cell_type": "code",
   "execution_count": 14,
   "id": "ae541962-9299-4d58-aa88-352e83440d2f",
   "metadata": {},
   "outputs": [],
   "source": [
    "def pd(f):\n",
    "    s=[]\n",
    "    l=[]\n",
    "    \n",
    "    with open (f,'r') as c:\n",
    "        r=csv.reader(c,delimiter=',')\n",
    "        next (r)\n",
    "        \n",
    "        for i in r:\n",
    "            i[1]=rsw(i[1])\n",
    "            i[2]=rsw(i[2])\n",
    "            s.append(i[1])\n",
    "            l.append(i[2])\n",
    "    \n",
    "    return s,l"
   ]
  },
  {
   "cell_type": "code",
   "execution_count": 17,
   "id": "29b7e7a1-0397-480a-9bd6-9222424ff90a",
   "metadata": {},
   "outputs": [
    {
     "name": "stdout",
     "output_type": "stream",
     "text": [
      "1490\n",
      "193\n",
      "1490\n",
      "['business', 'business', 'business', 'tech', 'business', 'politics', 'sport', 'entertainment', 'business', 'entertainment']\n"
     ]
    }
   ],
   "source": [
    "s,l = pd('BBC News Train.csv')\n",
    "\n",
    "print(len(s))\n",
    "print(len(s[0].split()))\n",
    "print(len(l))\n",
    "print(l[:10])"
   ]
  },
  {
   "cell_type": "code",
   "execution_count": 18,
   "id": "2c4db3ba-595c-4940-b32f-785d18174dc1",
   "metadata": {},
   "outputs": [],
   "source": [
    "def tok(s):\n",
    "    t = Tokenizer(oov_token='<x>')\n",
    "    t.fit_on_texts(s)\n",
    "    return t"
   ]
  },
  {
   "cell_type": "code",
   "execution_count": 19,
   "id": "84a806e9-fb7f-4e6b-975c-d42a441b98df",
   "metadata": {},
   "outputs": [
    {
     "data": {
      "text/plain": [
       "24948"
      ]
     },
     "execution_count": 19,
     "metadata": {},
     "output_type": "execute_result"
    }
   ],
   "source": [
    "t=tok(s)\n",
    "w=t.word_index\n",
    "len(w)"
   ]
  },
  {
   "cell_type": "code",
   "execution_count": 24,
   "id": "122d704b-3896-4005-a2d8-216db26afce2",
   "metadata": {},
   "outputs": [],
   "source": [
    "def pad(t,s):\n",
    "    q=t.texts_to_sequences(s)\n",
    "    p=pad_sequences(q,padding='post')\n",
    "    return p"
   ]
  },
  {
   "cell_type": "code",
   "execution_count": 26,
   "id": "0ef8d9df-a514-4392-a887-93718cc3a6ab",
   "metadata": {},
   "outputs": [
    {
     "name": "stdout",
     "output_type": "stream",
     "text": [
      "[1308 1166  578 ...    0    0    0]\n",
      "(1490, 1749)\n"
     ]
    }
   ],
   "source": [
    "p = pad(t,s)\n",
    "print(p[0])\n",
    "print(p.shape)"
   ]
  },
  {
   "cell_type": "code",
   "execution_count": 27,
   "id": "9f6528c0-4fd5-456c-8f7e-66392156626f",
   "metadata": {},
   "outputs": [],
   "source": [
    "def ltok(l):\n",
    "    t = Tokenizer(num_words=10)\n",
    "    t.fit_on_texts(l)\n",
    "    lw=t.word_index\n",
    "    ls=t.texts_to_sequences(l)\n",
    "    return ls,lw"
   ]
  },
  {
   "cell_type": "code",
   "execution_count": 28,
   "id": "d08d65cd-91e7-41f9-ad38-2f6267dcaf9d",
   "metadata": {},
   "outputs": [
    {
     "name": "stdout",
     "output_type": "stream",
     "text": [
      "{'sport': 1, 'business': 2, 'politics': 3, 'entertainment': 4, 'tech': 5}\n",
      "[[2], [2], [2], [5], [2], [3], [1], [4], [2], [4]]\n"
     ]
    }
   ],
   "source": [
    "ls,lw=ltok(l)\n",
    "print(lw)\n",
    "print(ls[:10])"
   ]
  },
  {
   "cell_type": "code",
   "execution_count": null,
   "id": "65353ff0-a7c6-4a41-9851-cd2dcff4d823",
   "metadata": {},
   "outputs": [],
   "source": []
  }
 ],
 "metadata": {
  "kernelspec": {
   "display_name": "Python 3 (ipykernel)",
   "language": "python",
   "name": "python3"
  },
  "language_info": {
   "codemirror_mode": {
    "name": "ipython",
    "version": 3
   },
   "file_extension": ".py",
   "mimetype": "text/x-python",
   "name": "python",
   "nbconvert_exporter": "python",
   "pygments_lexer": "ipython3",
   "version": "3.10.5"
  }
 },
 "nbformat": 4,
 "nbformat_minor": 5
}
