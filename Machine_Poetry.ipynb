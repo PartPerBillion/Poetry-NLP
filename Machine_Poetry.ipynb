{
  "nbformat": 4,
  "nbformat_minor": 0,
  "metadata": {
    "colab": {
      "name": "Machine Poetry.ipynb",
      "provenance": [],
      "collapsed_sections": []
    },
    "kernelspec": {
      "name": "python3",
      "display_name": "Python 3"
    },
    "language_info": {
      "name": "python"
    }
  },
  "cells": [
    {
      "cell_type": "code",
      "execution_count": 1,
      "metadata": {
        "id": "ilG8Y_YBB9I6"
      },
      "outputs": [],
      "source": [
        "import numpy as np \n",
        "import matplotlib.pyplot as plt\n",
        "import tensorflow as tf\n",
        "from tensorflow.keras.optimizers import Adam,RMSprop\n",
        "from tensorflow.keras.models import Sequential\n",
        "from tensorflow.keras.utils import to_categorical \n",
        "from tensorflow.keras.preprocessing.text import Tokenizer\n",
        "from tensorflow.keras.preprocessing.sequence import pad_sequences\n",
        "from tensorflow.keras.layers import Embedding, LSTM, Dense, Bidirectional"
      ]
    },
    {
      "cell_type": "code",
      "source": [
        "!gdown --id 108jAePKK4R3BVYBbYJZ32JWUwxeMg20K"
      ],
      "metadata": {
        "colab": {
          "base_uri": "https://localhost:8080/"
        },
        "id": "oFZf-a9CCAWB",
        "outputId": "ac689ec9-657f-4fc0-9084-17ed6150d10c"
      },
      "execution_count": 2,
      "outputs": [
        {
          "output_type": "stream",
          "name": "stdout",
          "text": [
            "/usr/local/lib/python3.7/dist-packages/gdown/cli.py:131: FutureWarning: Option `--id` was deprecated in version 4.3.1 and will be removed in 5.0. You don't need to pass it anymore to use a file ID.\n",
            "  category=FutureWarning,\n",
            "Downloading...\n",
            "From: https://drive.google.com/uc?id=108jAePKK4R3BVYBbYJZ32JWUwxeMg20K\n",
            "To: /content/sonnets.txt\n",
            "100% 93.6k/93.6k [00:00<00:00, 78.0MB/s]\n"
          ]
        }
      ]
    },
    {
      "cell_type": "code",
      "source": [
        "SONNETS_FILE = './sonnets.txt'\n",
        "\n",
        "with open('./sonnets.txt') as f:\n",
        "    data = f.read()\n",
        "\n",
        "corpus = data.lower().split(\"\\n\")\n",
        "\n",
        "print(f\"There are {len(corpus)} lines of sonnets\\n\")\n",
        "print(f\"The first 5 lines look like this:\\n\")\n",
        "for i in range(5):\n",
        "  print(corpus[i])"
      ],
      "metadata": {
        "colab": {
          "base_uri": "https://localhost:8080/"
        },
        "id": "uaGUENJ-CA9u",
        "outputId": "ef53fd6e-805e-481c-b534-96af2b78dc32"
      },
      "execution_count": 3,
      "outputs": [
        {
          "output_type": "stream",
          "name": "stdout",
          "text": [
            "There are 2159 lines of sonnets\n",
            "\n",
            "The first 5 lines look like this:\n",
            "\n",
            "from fairest creatures we desire increase,\n",
            "that thereby beauty's rose might never die,\n",
            "but as the riper should by time decease,\n",
            "his tender heir might bear his memory:\n",
            "but thou, contracted to thine own bright eyes,\n"
          ]
        }
      ]
    },
    {
      "cell_type": "code",
      "source": [
        "tokenizer = Tokenizer()\n",
        "tokenizer.fit_on_texts(corpus)\n",
        "total_words = len(tokenizer.word_index) + 1\n",
        "corpus[0]"
      ],
      "metadata": {
        "colab": {
          "base_uri": "https://localhost:8080/",
          "height": 36
        },
        "id": "YwI9APoRCKaw",
        "outputId": "5e3c28e1-7e40-425a-c22c-8c6a9f1c8322"
      },
      "execution_count": 5,
      "outputs": [
        {
          "output_type": "execute_result",
          "data": {
            "text/plain": [
              "'from fairest creatures we desire increase,'"
            ],
            "application/vnd.google.colaboratory.intrinsic+json": {
              "type": "string"
            }
          },
          "metadata": {},
          "execution_count": 5
        }
      ]
    },
    {
      "cell_type": "code",
      "source": [
        "tokenizer.texts_to_sequences(corpus[0])"
      ],
      "metadata": {
        "colab": {
          "base_uri": "https://localhost:8080/"
        },
        "id": "zJE3XB1lCP1g",
        "outputId": "750eee85-2cda-49dc-b063-498c0d964db8"
      },
      "execution_count": 6,
      "outputs": [
        {
          "output_type": "execute_result",
          "data": {
            "text/plain": [
              "[[],\n",
              " [],\n",
              " [58],\n",
              " [],\n",
              " [],\n",
              " [],\n",
              " [17],\n",
              " [6],\n",
              " [],\n",
              " [],\n",
              " [],\n",
              " [],\n",
              " [],\n",
              " [],\n",
              " [],\n",
              " [],\n",
              " [17],\n",
              " [],\n",
              " [],\n",
              " [],\n",
              " [],\n",
              " [],\n",
              " [],\n",
              " [],\n",
              " [],\n",
              " [],\n",
              " [],\n",
              " [],\n",
              " [],\n",
              " [6],\n",
              " [],\n",
              " [],\n",
              " [],\n",
              " [6],\n",
              " [],\n",
              " [],\n",
              " [],\n",
              " [],\n",
              " [17],\n",
              " [],\n",
              " [],\n",
              " []]"
            ]
          },
          "metadata": {},
          "execution_count": 6
        }
      ]
    },
    {
      "cell_type": "code",
      "source": [
        "tokenizer.texts_to_sequences([corpus[0]])"
      ],
      "metadata": {
        "colab": {
          "base_uri": "https://localhost:8080/"
        },
        "id": "SuoIBmMyCTC4",
        "outputId": "e1b677d9-2447-4b90-f95a-81aa4672399e"
      },
      "execution_count": 7,
      "outputs": [
        {
          "output_type": "execute_result",
          "data": {
            "text/plain": [
              "[[34, 417, 877, 166, 213, 517]]"
            ]
          },
          "metadata": {},
          "execution_count": 7
        }
      ]
    },
    {
      "cell_type": "code",
      "source": [
        "tokenizer.texts_to_sequences([corpus[0]])[0]"
      ],
      "metadata": {
        "colab": {
          "base_uri": "https://localhost:8080/"
        },
        "id": "GES_Py0cCVZs",
        "outputId": "fee2fc03-4c83-426e-daf3-b29ded40a55c"
      },
      "execution_count": 8,
      "outputs": [
        {
          "output_type": "execute_result",
          "data": {
            "text/plain": [
              "[34, 417, 877, 166, 213, 517]"
            ]
          },
          "metadata": {},
          "execution_count": 8
        }
      ]
    },
    {
      "cell_type": "code",
      "source": [
        "def n_gram_seqs(corpus, tokenizer):\n",
        "\n",
        "    input_sequences = []\n",
        "\n",
        "    for line in corpus:\n",
        "      token_list = tokenizer.texts_to_sequences([line])[0]\n",
        "\n",
        "      for i in range(1,len(token_list)):\n",
        "        n_gram_sequence = token_list[:i+1]\n",
        "        input_sequences.append(n_gram_sequence)\n",
        "    \n",
        "    max_sequence_len = max([len(x) for x in input_sequences])\n",
        "    return input_sequences"
      ],
      "metadata": {
        "id": "yHEUW7FrCX_V"
      },
      "execution_count": 17,
      "outputs": []
    },
    {
      "cell_type": "code",
      "source": [
        "first_example_sequence = n_gram_seqs([corpus[0]], tokenizer)\n",
        "\n",
        "print(\"n_gram sequences for first example look like this:\\n\")\n",
        "first_example_sequence"
      ],
      "metadata": {
        "colab": {
          "base_uri": "https://localhost:8080/"
        },
        "id": "uTowVhh7CdIW",
        "outputId": "64dcfe26-3d67-4d4e-95d7-0e505b12eb6e"
      },
      "execution_count": 10,
      "outputs": [
        {
          "output_type": "stream",
          "name": "stdout",
          "text": [
            "n_gram sequences for first example look like this:\n",
            "\n"
          ]
        },
        {
          "output_type": "execute_result",
          "data": {
            "text/plain": [
              "[[34, 417],\n",
              " [34, 417, 877],\n",
              " [34, 417, 877, 166],\n",
              " [34, 417, 877, 166, 213],\n",
              " [34, 417, 877, 166, 213, 517]]"
            ]
          },
          "metadata": {},
          "execution_count": 10
        }
      ]
    },
    {
      "cell_type": "code",
      "source": [
        "next_3_examples_sequence = n_gram_seqs(corpus[1:4], tokenizer)\n",
        "\n",
        "print(\"n_gram sequences for next 3 examples look like this:\\n\")\n",
        "next_3_examples_sequence"
      ],
      "metadata": {
        "colab": {
          "base_uri": "https://localhost:8080/"
        },
        "id": "k0cuoPLWCfuS",
        "outputId": "99861349-5661-4dff-c547-ba6a1339136d"
      },
      "execution_count": 11,
      "outputs": [
        {
          "output_type": "stream",
          "name": "stdout",
          "text": [
            "n_gram sequences for next 3 examples look like this:\n",
            "\n"
          ]
        },
        {
          "output_type": "execute_result",
          "data": {
            "text/plain": [
              "[[8, 878],\n",
              " [8, 878, 134],\n",
              " [8, 878, 134, 351],\n",
              " [8, 878, 134, 351, 102],\n",
              " [8, 878, 134, 351, 102, 156],\n",
              " [8, 878, 134, 351, 102, 156, 199],\n",
              " [16, 22],\n",
              " [16, 22, 2],\n",
              " [16, 22, 2, 879],\n",
              " [16, 22, 2, 879, 61],\n",
              " [16, 22, 2, 879, 61, 30],\n",
              " [16, 22, 2, 879, 61, 30, 48],\n",
              " [16, 22, 2, 879, 61, 30, 48, 634],\n",
              " [25, 311],\n",
              " [25, 311, 635],\n",
              " [25, 311, 635, 102],\n",
              " [25, 311, 635, 102, 200],\n",
              " [25, 311, 635, 102, 200, 25],\n",
              " [25, 311, 635, 102, 200, 25, 278]]"
            ]
          },
          "metadata": {},
          "execution_count": 11
        }
      ]
    },
    {
      "cell_type": "code",
      "source": [
        "input_sequences = n_gram_seqs(corpus, tokenizer)\n",
        "\n",
        "max_sequence_len = max([len(x) for x in input_sequences])\n",
        "\n",
        "print(f\"n_grams of input_sequences have length: {len(input_sequences)}\")\n",
        "print(f\"maximum length of sequences is: {max_sequence_len}\")"
      ],
      "metadata": {
        "colab": {
          "base_uri": "https://localhost:8080/"
        },
        "id": "PA166-YuCkMp",
        "outputId": "559abcda-6b21-4d36-a12b-112a02edd0a3"
      },
      "execution_count": 12,
      "outputs": [
        {
          "output_type": "stream",
          "name": "stdout",
          "text": [
            "n_grams of input_sequences have length: 15462\n",
            "maximum length of sequences is: 11\n"
          ]
        }
      ]
    },
    {
      "cell_type": "code",
      "source": [
        "def pad_seqs(input_sequences, maxlen):\n",
        "\n",
        "    padded_sequences = np.array(pad_sequences(input_sequences, maxlen=maxlen, padding='pre'))  \n",
        "    return padded_sequences"
      ],
      "metadata": {
        "id": "oLK5KfmRCngz"
      },
      "execution_count": 13,
      "outputs": []
    },
    {
      "cell_type": "code",
      "source": [
        "first_padded_seq = pad_seqs(first_example_sequence, len(first_example_sequence))\n",
        "first_padded_seq"
      ],
      "metadata": {
        "colab": {
          "base_uri": "https://localhost:8080/"
        },
        "id": "BPCwIShaCr2k",
        "outputId": "6179bffd-644a-4bab-9142-6034b7961e07"
      },
      "execution_count": 14,
      "outputs": [
        {
          "output_type": "execute_result",
          "data": {
            "text/plain": [
              "array([[  0,   0,   0,  34, 417],\n",
              "       [  0,   0,  34, 417, 877],\n",
              "       [  0,  34, 417, 877, 166],\n",
              "       [ 34, 417, 877, 166, 213],\n",
              "       [417, 877, 166, 213, 517]], dtype=int32)"
            ]
          },
          "metadata": {},
          "execution_count": 14
        }
      ]
    },
    {
      "cell_type": "code",
      "source": [
        "next_3_padded_seq = pad_seqs(next_3_examples_sequence, max([len(s) for s in next_3_examples_sequence]))\n",
        "next_3_padded_seq"
      ],
      "metadata": {
        "colab": {
          "base_uri": "https://localhost:8080/"
        },
        "id": "eh7VlazzCuaX",
        "outputId": "c5030104-a8db-40c0-ae71-48db81b59900"
      },
      "execution_count": 15,
      "outputs": [
        {
          "output_type": "execute_result",
          "data": {
            "text/plain": [
              "array([[  0,   0,   0,   0,   0,   0,   8, 878],\n",
              "       [  0,   0,   0,   0,   0,   8, 878, 134],\n",
              "       [  0,   0,   0,   0,   8, 878, 134, 351],\n",
              "       [  0,   0,   0,   8, 878, 134, 351, 102],\n",
              "       [  0,   0,   8, 878, 134, 351, 102, 156],\n",
              "       [  0,   8, 878, 134, 351, 102, 156, 199],\n",
              "       [  0,   0,   0,   0,   0,   0,  16,  22],\n",
              "       [  0,   0,   0,   0,   0,  16,  22,   2],\n",
              "       [  0,   0,   0,   0,  16,  22,   2, 879],\n",
              "       [  0,   0,   0,  16,  22,   2, 879,  61],\n",
              "       [  0,   0,  16,  22,   2, 879,  61,  30],\n",
              "       [  0,  16,  22,   2, 879,  61,  30,  48],\n",
              "       [ 16,  22,   2, 879,  61,  30,  48, 634],\n",
              "       [  0,   0,   0,   0,   0,   0,  25, 311],\n",
              "       [  0,   0,   0,   0,   0,  25, 311, 635],\n",
              "       [  0,   0,   0,   0,  25, 311, 635, 102],\n",
              "       [  0,   0,   0,  25, 311, 635, 102, 200],\n",
              "       [  0,   0,  25, 311, 635, 102, 200,  25],\n",
              "       [  0,  25, 311, 635, 102, 200,  25, 278]], dtype=int32)"
            ]
          },
          "metadata": {},
          "execution_count": 15
        }
      ]
    },
    {
      "cell_type": "code",
      "source": [
        "input_sequences = pad_seqs(input_sequences, max_sequence_len)\n",
        "\n",
        "print(f\"padded corpus has shape: {input_sequences.shape}\")"
      ],
      "metadata": {
        "colab": {
          "base_uri": "https://localhost:8080/"
        },
        "id": "bru49Bf2CyAq",
        "outputId": "4d8ccb71-aa90-4815-e19b-811e4d2791d4"
      },
      "execution_count": 16,
      "outputs": [
        {
          "output_type": "stream",
          "name": "stdout",
          "text": [
            "padded corpus has shape: (15462, 11)\n"
          ]
        }
      ]
    },
    {
      "cell_type": "code",
      "source": [
        "def features_and_labels(input_sequences, total_words):\n",
        "\n",
        "    features = input_sequences[:,:-1]\n",
        "    labels = input_sequences[:,-1]\n",
        "    one_hot_labels = tf.keras.utils.to_categorical(labels, num_classes=total_words)\n",
        "    return features, one_hot_labels"
      ],
      "metadata": {
        "id": "udhHCb5VC1E0"
      },
      "execution_count": 18,
      "outputs": []
    },
    {
      "cell_type": "code",
      "source": [
        "first_features, first_labels = features_and_labels(first_padded_seq, total_words)\n",
        "\n",
        "print(f\"labels have shape: {first_labels.shape}\")\n",
        "print(\"\\nfeatures look like this:\\n\")\n",
        "first_features"
      ],
      "metadata": {
        "colab": {
          "base_uri": "https://localhost:8080/"
        },
        "id": "cjgAIqqmC69i",
        "outputId": "7143b1a8-91c0-4156-b05f-28a48072f27a"
      },
      "execution_count": 19,
      "outputs": [
        {
          "output_type": "stream",
          "name": "stdout",
          "text": [
            "labels have shape: (5, 3211)\n",
            "\n",
            "features look like this:\n",
            "\n"
          ]
        },
        {
          "output_type": "execute_result",
          "data": {
            "text/plain": [
              "array([[  0,   0,   0,  34],\n",
              "       [  0,   0,  34, 417],\n",
              "       [  0,  34, 417, 877],\n",
              "       [ 34, 417, 877, 166],\n",
              "       [417, 877, 166, 213]], dtype=int32)"
            ]
          },
          "metadata": {},
          "execution_count": 19
        }
      ]
    },
    {
      "cell_type": "code",
      "source": [
        "features, labels = features_and_labels(input_sequences, total_words)\n",
        "\n",
        "print(f\"features have shape: {features.shape}\")\n",
        "print(f\"labels have shape: {labels.shape}\")"
      ],
      "metadata": {
        "colab": {
          "base_uri": "https://localhost:8080/"
        },
        "id": "GwZc74mwC9Mm",
        "outputId": "a73094bd-3beb-45ca-9417-acddea5f3435"
      },
      "execution_count": 20,
      "outputs": [
        {
          "output_type": "stream",
          "name": "stdout",
          "text": [
            "features have shape: (15462, 10)\n",
            "labels have shape: (15462, 3211)\n"
          ]
        }
      ]
    },
    {
      "cell_type": "code",
      "source": [
        "def create_model(total_words, max_sequence_len):\n",
        "\n",
        "    model = Sequential()\n",
        "    model.add(Embedding(total_words, 100, input_length=max_sequence_len-1))\n",
        "    model.add(Bidirectional(LSTM(300)))\n",
        "    model.add(Dense(total_words,activation='softmax'))\n",
        "\n",
        "\n",
        "    model.compile(loss='categorical_crossentropy',\n",
        "                  optimizer='adam',\n",
        "                  metrics=['accuracy'])\n",
        "    return model"
      ],
      "metadata": {
        "id": "gfeBNrqVDBVt"
      },
      "execution_count": 21,
      "outputs": []
    },
    {
      "cell_type": "code",
      "source": [
        "model = create_model(total_words, max_sequence_len)\n",
        "history = model.fit(features, labels, epochs=50, verbose=1)"
      ],
      "metadata": {
        "colab": {
          "base_uri": "https://localhost:8080/"
        },
        "id": "NK0_JZF0DF4a",
        "outputId": "b3e28272-e01e-483d-ae34-14ddb002d73b"
      },
      "execution_count": 22,
      "outputs": [
        {
          "output_type": "stream",
          "name": "stdout",
          "text": [
            "Epoch 1/50\n",
            "484/484 [==============================] - 56s 107ms/step - loss: 6.8473 - accuracy: 0.0248\n",
            "Epoch 2/50\n",
            "484/484 [==============================] - 52s 108ms/step - loss: 6.3831 - accuracy: 0.0325\n",
            "Epoch 3/50\n",
            "484/484 [==============================] - 52s 107ms/step - loss: 6.1298 - accuracy: 0.0464\n",
            "Epoch 4/50\n",
            "484/484 [==============================] - 52s 108ms/step - loss: 5.8534 - accuracy: 0.0559\n",
            "Epoch 5/50\n",
            "484/484 [==============================] - 52s 107ms/step - loss: 5.5157 - accuracy: 0.0682\n",
            "Epoch 6/50\n",
            "484/484 [==============================] - 52s 108ms/step - loss: 5.0783 - accuracy: 0.0849\n",
            "Epoch 7/50\n",
            "484/484 [==============================] - 52s 108ms/step - loss: 4.5370 - accuracy: 0.1167\n",
            "Epoch 8/50\n",
            "484/484 [==============================] - 52s 108ms/step - loss: 3.9048 - accuracy: 0.1911\n",
            "Epoch 9/50\n",
            "484/484 [==============================] - 52s 108ms/step - loss: 3.2663 - accuracy: 0.3039\n",
            "Epoch 10/50\n",
            "484/484 [==============================] - 53s 110ms/step - loss: 2.6999 - accuracy: 0.4158\n",
            "Epoch 11/50\n",
            "484/484 [==============================] - 55s 113ms/step - loss: 2.2371 - accuracy: 0.5210\n",
            "Epoch 12/50\n",
            "484/484 [==============================] - 53s 109ms/step - loss: 1.8577 - accuracy: 0.6026\n",
            "Epoch 13/50\n",
            "484/484 [==============================] - 52s 108ms/step - loss: 1.5571 - accuracy: 0.6742\n",
            "Epoch 14/50\n",
            "484/484 [==============================] - 53s 109ms/step - loss: 1.3183 - accuracy: 0.7297\n",
            "Epoch 15/50\n",
            "484/484 [==============================] - 52s 108ms/step - loss: 1.1400 - accuracy: 0.7652\n",
            "Epoch 16/50\n",
            "484/484 [==============================] - 52s 108ms/step - loss: 1.0115 - accuracy: 0.7908\n",
            "Epoch 17/50\n",
            "484/484 [==============================] - 54s 111ms/step - loss: 0.9147 - accuracy: 0.8080\n",
            "Epoch 18/50\n",
            "484/484 [==============================] - 52s 108ms/step - loss: 0.8391 - accuracy: 0.8209\n",
            "Epoch 19/50\n",
            "484/484 [==============================] - 52s 107ms/step - loss: 0.8016 - accuracy: 0.8252\n",
            "Epoch 20/50\n",
            "484/484 [==============================] - 52s 108ms/step - loss: 0.7553 - accuracy: 0.8315\n",
            "Epoch 21/50\n",
            "484/484 [==============================] - 52s 107ms/step - loss: 0.7230 - accuracy: 0.8379\n",
            "Epoch 22/50\n",
            "484/484 [==============================] - 51s 105ms/step - loss: 0.6961 - accuracy: 0.8409\n",
            "Epoch 23/50\n",
            "484/484 [==============================] - 52s 106ms/step - loss: 0.6779 - accuracy: 0.8428\n",
            "Epoch 24/50\n",
            "484/484 [==============================] - 54s 111ms/step - loss: 0.6618 - accuracy: 0.8452\n",
            "Epoch 25/50\n",
            "484/484 [==============================] - 53s 109ms/step - loss: 0.6446 - accuracy: 0.8463\n",
            "Epoch 26/50\n",
            "484/484 [==============================] - 52s 108ms/step - loss: 0.6333 - accuracy: 0.8475\n",
            "Epoch 27/50\n",
            "484/484 [==============================] - 53s 109ms/step - loss: 0.6303 - accuracy: 0.8461\n",
            "Epoch 28/50\n",
            "484/484 [==============================] - 53s 109ms/step - loss: 0.6243 - accuracy: 0.8471\n",
            "Epoch 29/50\n",
            "484/484 [==============================] - 53s 109ms/step - loss: 0.6210 - accuracy: 0.8459\n",
            "Epoch 30/50\n",
            "484/484 [==============================] - 53s 110ms/step - loss: 0.6106 - accuracy: 0.8465\n",
            "Epoch 31/50\n",
            "484/484 [==============================] - 71s 147ms/step - loss: 0.5991 - accuracy: 0.8479\n",
            "Epoch 32/50\n",
            "484/484 [==============================] - 52s 107ms/step - loss: 0.5885 - accuracy: 0.8485\n",
            "Epoch 33/50\n",
            "484/484 [==============================] - 53s 109ms/step - loss: 0.5868 - accuracy: 0.8498\n",
            "Epoch 34/50\n",
            "484/484 [==============================] - 53s 110ms/step - loss: 0.5828 - accuracy: 0.8498\n",
            "Epoch 35/50\n",
            "484/484 [==============================] - 52s 108ms/step - loss: 0.5829 - accuracy: 0.8474\n",
            "Epoch 36/50\n",
            "484/484 [==============================] - 53s 109ms/step - loss: 0.5729 - accuracy: 0.8496\n",
            "Epoch 37/50\n",
            "484/484 [==============================] - 52s 108ms/step - loss: 0.5754 - accuracy: 0.8485\n",
            "Epoch 38/50\n",
            "484/484 [==============================] - 52s 107ms/step - loss: 0.5817 - accuracy: 0.8465\n",
            "Epoch 39/50\n",
            "484/484 [==============================] - 51s 106ms/step - loss: 0.5744 - accuracy: 0.8481\n",
            "Epoch 40/50\n",
            "484/484 [==============================] - 52s 107ms/step - loss: 0.5630 - accuracy: 0.8499\n",
            "Epoch 41/50\n",
            "484/484 [==============================] - 52s 107ms/step - loss: 0.5559 - accuracy: 0.8496\n",
            "Epoch 42/50\n",
            "484/484 [==============================] - 52s 108ms/step - loss: 0.5487 - accuracy: 0.8505\n",
            "Epoch 43/50\n",
            "484/484 [==============================] - 53s 110ms/step - loss: 0.5494 - accuracy: 0.8502\n",
            "Epoch 44/50\n",
            "484/484 [==============================] - 52s 108ms/step - loss: 0.5472 - accuracy: 0.8520\n",
            "Epoch 45/50\n",
            "484/484 [==============================] - 52s 107ms/step - loss: 0.5482 - accuracy: 0.8509\n",
            "Epoch 46/50\n",
            "484/484 [==============================] - 52s 107ms/step - loss: 0.5545 - accuracy: 0.8485\n",
            "Epoch 47/50\n",
            "484/484 [==============================] - 51s 106ms/step - loss: 0.5824 - accuracy: 0.8409\n",
            "Epoch 48/50\n",
            "484/484 [==============================] - 52s 108ms/step - loss: 0.5499 - accuracy: 0.8480\n",
            "Epoch 49/50\n",
            "484/484 [==============================] - 54s 111ms/step - loss: 0.5351 - accuracy: 0.8501\n",
            "Epoch 50/50\n",
            "484/484 [==============================] - 52s 107ms/step - loss: 0.5302 - accuracy: 0.8493\n"
          ]
        }
      ]
    },
    {
      "cell_type": "code",
      "source": [
        "acc = history.history['accuracy']\n",
        "loss = history.history['loss']\n",
        "\n",
        "epochs = range(len(acc))\n",
        "\n",
        "plt.plot(epochs, acc, 'b', label='Training accuracy')\n",
        "plt.title('Training accuracy')\n",
        "plt.figure()\n",
        "plt.plot(epochs, loss, 'b', label='Training Loss')\n",
        "plt.title('Training loss')\n",
        "plt.legend()"
      ],
      "metadata": {
        "colab": {
          "base_uri": "https://localhost:8080/",
          "height": 563
        },
        "id": "WCZlfvW0JLO0",
        "outputId": "827fb8d0-0f69-459d-a3c7-55437afcee94"
      },
      "execution_count": 24,
      "outputs": [
        {
          "output_type": "execute_result",
          "data": {
            "text/plain": [
              "<matplotlib.legend.Legend at 0x7f63548a0a10>"
            ]
          },
          "metadata": {},
          "execution_count": 24
        },
        {
          "output_type": "display_data",
          "data": {
            "text/plain": [
              "<Figure size 432x288 with 1 Axes>"
            ],
            "image/png": "[encoded data removed]"
          },
          "metadata": {
            "needs_background": "light"
          }
        },
        {
          "output_type": "display_data",
          "data": {
            "text/plain": [
              "<Figure size 432x288 with 1 Axes>"
            ],
            "image/png": "[encoded data removed]"
          },
          "metadata": {
            "needs_background": "light"
          }
        }
      ]
    },
    {
      "cell_type": "code",
      "source": [
        "seed_text = \"Help me Obi Wan Kenobi, you're my only hope\"\n",
        "next_words = 100\n",
        "  \n",
        "for _ in range(next_words):\n",
        "\ttoken_list = tokenizer.texts_to_sequences([seed_text])[0]\n",
        "\ttoken_list = pad_sequences([token_list], maxlen=max_sequence_len-1, padding='pre')\n",
        "\tpredicted = model.predict(token_list, verbose=0)\n",
        "\tpredicted = np.argmax(predicted, axis=-1).item()\n",
        "\toutput_word = tokenizer.index_word[predicted]\n",
        "\tseed_text += \" \" + output_word\n",
        "\n",
        "print(seed_text)"
      ],
      "metadata": {
        "colab": {
          "base_uri": "https://localhost:8080/"
        },
        "id": "erTa4NgiJQT_",
        "outputId": "16baa7df-0eee-4f0b-8845-16bca87516e3"
      },
      "execution_count": 25,
      "outputs": [
        {
          "output_type": "stream",
          "name": "stdout",
          "text": [
            "Help me Obi Wan Kenobi, you're my only hope my love's is go new new new ' now live to you heart you for his love heart still room room room room men's spite of thee leaves me by grow by gems can now give abuse me forth a tomb to rehearse strange dead give me of hate blind hate me than me again truth with heat been night can stand them o'er forth art the sad eye new and his show his verse ' hide to bear this part me keen and rare gems gems tongue again by parts kind perusal sweet far far find tongue new faith\n"
          ]
        }
      ]
    }
  ]
}